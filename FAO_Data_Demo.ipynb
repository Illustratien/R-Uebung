{
 "cells": [
  {
   "cell_type": "markdown",
   "metadata": {},
   "source": [
    "# Step 0: Testing the R-Environment"
   ]
  },
  {
   "cell_type": "code",
   "execution_count": 1,
   "metadata": {},
   "outputs": [
    {
     "data": {
      "text/html": [
       "2"
      ],
      "text/latex": [
       "2"
      ],
      "text/markdown": [
       "2"
      ],
      "text/plain": [
       "[1] 2"
      ]
     },
     "metadata": {},
     "output_type": "display_data"
    },
    {
     "data": {
      "text/html": [
       "3"
      ],
      "text/latex": [
       "3"
      ],
      "text/markdown": [
       "3"
      ],
      "text/plain": [
       "[1] 3"
      ]
     },
     "metadata": {},
     "output_type": "display_data"
    },
    {
     "data": {
      "text/html": [
       "6"
      ],
      "text/latex": [
       "6"
      ],
      "text/markdown": [
       "6"
      ],
      "text/plain": [
       "[1] 6"
      ]
     },
     "metadata": {},
     "output_type": "display_data"
    }
   ],
   "source": [
    "y = 1+1 ### Das Ergebnis einfacher Mathe als \"y\" speichern\n",
    "y       ### Man fragt das System an, was jetzt y ist?\n",
    "exp = 3 ### Ein Objekt \"exp\" ist eine Zahl und gleicht 3\n",
    "exp     ### Man fragt das System an, was jetzt exp ist?\n",
    "exp*y   ### Mathematische Operation\n"
   ]
  },
  {
   "cell_type": "markdown",
   "metadata": {},
   "source": [
    "# Step 1: Install/Loading required packages for data analyses and visualization"
   ]
  },
  {
   "cell_type": "code",
   "execution_count": 2,
   "metadata": {},
   "outputs": [
    {
     "name": "stderr",
     "output_type": "stream",
     "text": [
      "Warning message:\n",
      "\"package 'psych' was built under R version 3.6.3\"\n",
      "Warning message:\n",
      "\"package 'latticeExtra' was built under R version 3.6.3\"\n",
      "\n",
      "Attaching package: 'ggplot2'\n",
      "\n",
      "\n",
      "The following object is masked from 'package:latticeExtra':\n",
      "\n",
      "    layer\n",
      "\n",
      "\n",
      "The following objects are masked from 'package:psych':\n",
      "\n",
      "    %+%, alpha\n",
      "\n",
      "\n"
     ]
    }
   ],
   "source": [
    "library(plyr)\n",
    "library(lattice)\n",
    "library(psych)\n",
    "library(latticeExtra)\n",
    "library(lattice)\n",
    "library(ggplot2)\n",
    "library(RColorBrewer)\n"
   ]
  },
  {
   "cell_type": "markdown",
   "metadata": {},
   "source": [
    "# Step2: Loading the data"
   ]
  },
  {
   "cell_type": "code",
   "execution_count": 3,
   "metadata": {},
   "outputs": [
    {
     "data": {
      "text/html": [
       "'C:/Users/chen/Documents/Seafile/GitHub/R-Uebung'"
      ],
      "text/latex": [
       "'C:/Users/chen/Documents/Seafile/GitHub/R-Uebung'"
      ],
      "text/markdown": [
       "'C:/Users/chen/Documents/Seafile/GitHub/R-Uebung'"
      ],
      "text/plain": [
       "[1] \"C:/Users/chen/Documents/Seafile/GitHub/R-Uebung\""
      ]
     },
     "metadata": {},
     "output_type": "display_data"
    }
   ],
   "source": [
    "###################  Die Daten einlesen/importieren (read.table(); read.csv() etc.)\n",
    "getwd()\n",
    "## reading the data\n",
    "df1 <-read.table(\"Data/FAOSTAT_cucurbit_data_7-31-2017.csv\",sep=\",\",dec=\".\",h=T)\n"
   ]
  },
  {
   "cell_type": "markdown",
   "metadata": {},
   "source": [
    "# Step3: Checking the data"
   ]
  },
  {
   "cell_type": "markdown",
   "metadata": {},
   "source": [
    "## Step3.1: Checking the data structure"
   ]
  },
  {
   "cell_type": "code",
   "execution_count": 4,
   "metadata": {},
   "outputs": [
    {
     "name": "stdout",
     "output_type": "stream",
     "text": [
      "'data.frame':\t1512 obs. of  14 variables:\n",
      " $ Domain.Code     : Factor w/ 1 level \"QC\": 1 1 1 1 1 1 1 1 1 1 ...\n",
      " $ Domain          : Factor w/ 1 level \"Crops\": 1 1 1 1 1 1 1 1 1 1 ...\n",
      " $ Area.Code       : int  5000 5000 5000 5000 5000 5000 5000 5000 5000 5000 ...\n",
      " $ Area            : Factor w/ 7 levels \"Africa\",\"Asia\",..: 7 7 7 7 7 7 7 7 7 7 ...\n",
      " $ Element.Code    : int  5510 5510 5510 5510 5510 5510 5510 5510 5510 5510 ...\n",
      " $ Element         : Factor w/ 1 level \"Production\": 1 1 1 1 1 1 1 1 1 1 ...\n",
      " $ Item.Code       : int  397 397 397 397 397 397 397 397 397 397 ...\n",
      " $ Item            : Factor w/ 4 levels \"Cucumbers and gherkins\",..: 1 1 1 1 1 1 1 1 1 1 ...\n",
      " $ Year.Code       : int  1961 1962 1963 1964 1965 1966 1967 1968 1969 1970 ...\n",
      " $ Year            : int  1961 1962 1963 1964 1965 1966 1967 1968 1969 1970 ...\n",
      " $ Unit            : Factor w/ 1 level \"tonnes\": 1 1 1 1 1 1 1 1 1 1 ...\n",
      " $ Value           : int  9548680 9371964 9590284 9423710 9308950 9906931 10458074 10887859 11084294 10173846 ...\n",
      " $ Flag            : Factor w/ 1 level \"A\": 1 1 1 1 1 1 1 1 1 1 ...\n",
      " $ Flag.Description: Factor w/ 1 level \"Aggregate, may include official, semi-official, estimated or calculated data\": 1 1 1 1 1 1 1 1 1 1 ...\n"
     ]
    }
   ],
   "source": [
    "################### 8. Die Struktur der Daten pr?fen (int, num, chr, Factor, Date.) und ?ndern\n",
    "## Namen der Spalte\n",
    "str(df1)"
   ]
  },
  {
   "cell_type": "markdown",
   "metadata": {},
   "source": [
    "## Step3.2: Checking the first rows of the data"
   ]
  },
  {
   "cell_type": "code",
   "execution_count": 5,
   "metadata": {},
   "outputs": [
    {
     "data": {
      "text/html": [
       "<table>\n",
       "<caption>A data.frame: 6 × 14</caption>\n",
       "<thead>\n",
       "\t<tr><th></th><th scope=col>Domain.Code</th><th scope=col>Domain</th><th scope=col>Area.Code</th><th scope=col>Area</th><th scope=col>Element.Code</th><th scope=col>Element</th><th scope=col>Item.Code</th><th scope=col>Item</th><th scope=col>Year.Code</th><th scope=col>Year</th><th scope=col>Unit</th><th scope=col>Value</th><th scope=col>Flag</th><th scope=col>Flag.Description</th></tr>\n",
       "\t<tr><th></th><th scope=col>&lt;fct&gt;</th><th scope=col>&lt;fct&gt;</th><th scope=col>&lt;int&gt;</th><th scope=col>&lt;fct&gt;</th><th scope=col>&lt;int&gt;</th><th scope=col>&lt;fct&gt;</th><th scope=col>&lt;int&gt;</th><th scope=col>&lt;fct&gt;</th><th scope=col>&lt;int&gt;</th><th scope=col>&lt;int&gt;</th><th scope=col>&lt;fct&gt;</th><th scope=col>&lt;int&gt;</th><th scope=col>&lt;fct&gt;</th><th scope=col>&lt;fct&gt;</th></tr>\n",
       "</thead>\n",
       "<tbody>\n",
       "\t<tr><th scope=row>1</th><td>QC</td><td>Crops</td><td>5000</td><td>World</td><td>5510</td><td>Production</td><td>397</td><td>Cucumbers and gherkins</td><td>1961</td><td>1961</td><td>tonnes</td><td>9548680</td><td>A</td><td>Aggregate, may include official, semi-official, estimated or calculated data</td></tr>\n",
       "\t<tr><th scope=row>2</th><td>QC</td><td>Crops</td><td>5000</td><td>World</td><td>5510</td><td>Production</td><td>397</td><td>Cucumbers and gherkins</td><td>1962</td><td>1962</td><td>tonnes</td><td>9371964</td><td>A</td><td>Aggregate, may include official, semi-official, estimated or calculated data</td></tr>\n",
       "\t<tr><th scope=row>3</th><td>QC</td><td>Crops</td><td>5000</td><td>World</td><td>5510</td><td>Production</td><td>397</td><td>Cucumbers and gherkins</td><td>1963</td><td>1963</td><td>tonnes</td><td>9590284</td><td>A</td><td>Aggregate, may include official, semi-official, estimated or calculated data</td></tr>\n",
       "\t<tr><th scope=row>4</th><td>QC</td><td>Crops</td><td>5000</td><td>World</td><td>5510</td><td>Production</td><td>397</td><td>Cucumbers and gherkins</td><td>1964</td><td>1964</td><td>tonnes</td><td>9423710</td><td>A</td><td>Aggregate, may include official, semi-official, estimated or calculated data</td></tr>\n",
       "\t<tr><th scope=row>5</th><td>QC</td><td>Crops</td><td>5000</td><td>World</td><td>5510</td><td>Production</td><td>397</td><td>Cucumbers and gherkins</td><td>1965</td><td>1965</td><td>tonnes</td><td>9308950</td><td>A</td><td>Aggregate, may include official, semi-official, estimated or calculated data</td></tr>\n",
       "\t<tr><th scope=row>6</th><td>QC</td><td>Crops</td><td>5000</td><td>World</td><td>5510</td><td>Production</td><td>397</td><td>Cucumbers and gherkins</td><td>1966</td><td>1966</td><td>tonnes</td><td>9906931</td><td>A</td><td>Aggregate, may include official, semi-official, estimated or calculated data</td></tr>\n",
       "</tbody>\n",
       "</table>\n"
      ],
      "text/latex": [
       "A data.frame: 6 × 14\n",
       "\\begin{tabular}{r|llllllllllllll}\n",
       "  & Domain.Code & Domain & Area.Code & Area & Element.Code & Element & Item.Code & Item & Year.Code & Year & Unit & Value & Flag & Flag.Description\\\\\n",
       "  & <fct> & <fct> & <int> & <fct> & <int> & <fct> & <int> & <fct> & <int> & <int> & <fct> & <int> & <fct> & <fct>\\\\\n",
       "\\hline\n",
       "\t1 & QC & Crops & 5000 & World & 5510 & Production & 397 & Cucumbers and gherkins & 1961 & 1961 & tonnes & 9548680 & A & Aggregate, may include official, semi-official, estimated or calculated data\\\\\n",
       "\t2 & QC & Crops & 5000 & World & 5510 & Production & 397 & Cucumbers and gherkins & 1962 & 1962 & tonnes & 9371964 & A & Aggregate, may include official, semi-official, estimated or calculated data\\\\\n",
       "\t3 & QC & Crops & 5000 & World & 5510 & Production & 397 & Cucumbers and gherkins & 1963 & 1963 & tonnes & 9590284 & A & Aggregate, may include official, semi-official, estimated or calculated data\\\\\n",
       "\t4 & QC & Crops & 5000 & World & 5510 & Production & 397 & Cucumbers and gherkins & 1964 & 1964 & tonnes & 9423710 & A & Aggregate, may include official, semi-official, estimated or calculated data\\\\\n",
       "\t5 & QC & Crops & 5000 & World & 5510 & Production & 397 & Cucumbers and gherkins & 1965 & 1965 & tonnes & 9308950 & A & Aggregate, may include official, semi-official, estimated or calculated data\\\\\n",
       "\t6 & QC & Crops & 5000 & World & 5510 & Production & 397 & Cucumbers and gherkins & 1966 & 1966 & tonnes & 9906931 & A & Aggregate, may include official, semi-official, estimated or calculated data\\\\\n",
       "\\end{tabular}\n"
      ],
      "text/markdown": [
       "\n",
       "A data.frame: 6 × 14\n",
       "\n",
       "| <!--/--> | Domain.Code &lt;fct&gt; | Domain &lt;fct&gt; | Area.Code &lt;int&gt; | Area &lt;fct&gt; | Element.Code &lt;int&gt; | Element &lt;fct&gt; | Item.Code &lt;int&gt; | Item &lt;fct&gt; | Year.Code &lt;int&gt; | Year &lt;int&gt; | Unit &lt;fct&gt; | Value &lt;int&gt; | Flag &lt;fct&gt; | Flag.Description &lt;fct&gt; |\n",
       "|---|---|---|---|---|---|---|---|---|---|---|---|---|---|---|\n",
       "| 1 | QC | Crops | 5000 | World | 5510 | Production | 397 | Cucumbers and gherkins | 1961 | 1961 | tonnes | 9548680 | A | Aggregate, may include official, semi-official, estimated or calculated data |\n",
       "| 2 | QC | Crops | 5000 | World | 5510 | Production | 397 | Cucumbers and gherkins | 1962 | 1962 | tonnes | 9371964 | A | Aggregate, may include official, semi-official, estimated or calculated data |\n",
       "| 3 | QC | Crops | 5000 | World | 5510 | Production | 397 | Cucumbers and gherkins | 1963 | 1963 | tonnes | 9590284 | A | Aggregate, may include official, semi-official, estimated or calculated data |\n",
       "| 4 | QC | Crops | 5000 | World | 5510 | Production | 397 | Cucumbers and gherkins | 1964 | 1964 | tonnes | 9423710 | A | Aggregate, may include official, semi-official, estimated or calculated data |\n",
       "| 5 | QC | Crops | 5000 | World | 5510 | Production | 397 | Cucumbers and gherkins | 1965 | 1965 | tonnes | 9308950 | A | Aggregate, may include official, semi-official, estimated or calculated data |\n",
       "| 6 | QC | Crops | 5000 | World | 5510 | Production | 397 | Cucumbers and gherkins | 1966 | 1966 | tonnes | 9906931 | A | Aggregate, may include official, semi-official, estimated or calculated data |\n",
       "\n"
      ],
      "text/plain": [
       "  Domain.Code Domain Area.Code Area  Element.Code Element    Item.Code\n",
       "1 QC          Crops  5000      World 5510         Production 397      \n",
       "2 QC          Crops  5000      World 5510         Production 397      \n",
       "3 QC          Crops  5000      World 5510         Production 397      \n",
       "4 QC          Crops  5000      World 5510         Production 397      \n",
       "5 QC          Crops  5000      World 5510         Production 397      \n",
       "6 QC          Crops  5000      World 5510         Production 397      \n",
       "  Item                   Year.Code Year Unit   Value   Flag\n",
       "1 Cucumbers and gherkins 1961      1961 tonnes 9548680 A   \n",
       "2 Cucumbers and gherkins 1962      1962 tonnes 9371964 A   \n",
       "3 Cucumbers and gherkins 1963      1963 tonnes 9590284 A   \n",
       "4 Cucumbers and gherkins 1964      1964 tonnes 9423710 A   \n",
       "5 Cucumbers and gherkins 1965      1965 tonnes 9308950 A   \n",
       "6 Cucumbers and gherkins 1966      1966 tonnes 9906931 A   \n",
       "  Flag.Description                                                            \n",
       "1 Aggregate, may include official, semi-official, estimated or calculated data\n",
       "2 Aggregate, may include official, semi-official, estimated or calculated data\n",
       "3 Aggregate, may include official, semi-official, estimated or calculated data\n",
       "4 Aggregate, may include official, semi-official, estimated or calculated data\n",
       "5 Aggregate, may include official, semi-official, estimated or calculated data\n",
       "6 Aggregate, may include official, semi-official, estimated or calculated data"
      ]
     },
     "metadata": {},
     "output_type": "display_data"
    }
   ],
   "source": [
    "## The first rows of the data\n",
    "head(df1)"
   ]
  },
  {
   "cell_type": "markdown",
   "metadata": {},
   "source": [
    "# Step 4: Preparing data format"
   ]
  },
  {
   "cell_type": "code",
   "execution_count": null,
   "metadata": {},
   "outputs": [],
   "source": [
    "## The column \"Item.Code\" should be a factor\n",
    "df1$Item.Code <- as.factor(df1$Item.Code)   \n",
    "## Rename all rows in the column \"Item.Code\" based on their number\n",
    "df1$Item.Code <- revalue(df1$Item.Code, c(\"397\"=\"Cucumber\", \"568\"=\"Melon\", \"394\"=\"Pumpkin\", \"567\"=\"Watermelon\"))\n",
    "## Convert unit of yield in Million Tonnes\n",
    "df1$Yield <- df1$Value/1000000\n",
    "## Sorting data set according to Area\n",
    "df1<- df1[order(df1$Area),]"
   ]
  },
  {
   "cell_type": "markdown",
   "metadata": {},
   "source": [
    "# Step 5: Draw the figure"
   ]
  },
  {
   "cell_type": "markdown",
   "metadata": {},
   "source": [
    "### 5.1 Draw a figure of watermelon, without worldwide data and Asia"
   ]
  },
  {
   "cell_type": "code",
   "execution_count": 7,
   "metadata": {},
   "outputs": [
    {
     "data": {
      "image/png": "[encoded data removed]",
      "text/plain": [
       "plot without title"
      ]
     },
     "metadata": {
      "image/png": {
       "height": 420,
       "width": 420
      }
     },
     "output_type": "display_data"
    }
   ],
   "source": [
    "## Select item\n",
    "item=\"Watermelon\"\n",
    "## Select colors for the lines\n",
    "mypalette<-brewer.pal(5,\"Dark2\")\n",
    "## Draw a plot with x and y axsis: X = Year, Y = Yield, based on differnt group of area\n",
    "## Data source = the subset of Item.Code, without \"World\" and \"Asia\"\n",
    "xyplot(Yield~Year,groups=Area, data=droplevels(subset(subset(subset(df1, Item.Code==item), Area!=\"World\"), Area!=\"Asia\")),\n",
    "       #### Special setup of the figure\n",
    "       type=\"l\", col=mypalette, lwd=4, \n",
    "       scales=list(tck=c(1,0), x=list(cex=2), y=list(cex=2)),\n",
    "       key=list(space=\"right\",  \n",
    "                lines=list(col=mypalette, lwd=4),\n",
    "                text=list(c(\"Africa\",\"Europe\",\"Northern America\",\"Oceania\",\"South America\"), cex=1.5))\n",
    "       )"
   ]
  },
  {
   "cell_type": "markdown",
   "metadata": {},
   "source": [
    "### 5.2 Draw a figure of watermelon, only worldwide data and Asia"
   ]
  },
  {
   "cell_type": "code",
   "execution_count": 8,
   "metadata": {},
   "outputs": [
    {
     "data": {
      "image/png": "[encoded data removed]",
      "text/plain": [
       "plot without title"
      ]
     },
     "metadata": {
      "image/png": {
       "height": 420,
       "width": 420
      }
     },
     "output_type": "display_data"
    }
   ],
   "source": [
    "mypalette2<-c(\"#386CB0\", \"#F0027F\")\n",
    "df2 <- rbind(subset(df1, Area==\"Asia\"), subset(df1, Area==\"World\"))\n",
    "xyplot(Yield~Year,groups=Area, data=subset(df2, Item.Code==item),\n",
    "       type=\"l\", col=mypalette2, lwd=4, \n",
    "       scales=list(tck=c(1,0), x=list(cex=1.5), y=list(cex=1.5)),\n",
    "       key=list(space=\"right\",   ##corner=c(0,2),\n",
    "                lines=list(col=mypalette2, lwd=4),\n",
    "                text=list(c(\"World\",\"Asia\"), cex=1.5))\n",
    ")"
   ]
  }
 ],
 "metadata": {
  "kernelspec": {
   "display_name": "R",
   "language": "R",
   "name": "ir"
  },
  "language_info": {
   "codemirror_mode": "r",
   "file_extension": ".r",
   "mimetype": "text/x-r-source",
   "name": "R",
   "pygments_lexer": "r",
   "version": "3.6.1"
  }
 },
 "nbformat": 4,
 "nbformat_minor": 4
}

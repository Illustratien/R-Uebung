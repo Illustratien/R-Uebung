{
 "cells": [
  {
   "cell_type": "code",
   "execution_count": null,
   "metadata": {},
   "outputs": [],
   "source": [
    "###################  7. Die Daten einlesen/importieren (read.table(); read.csv() etc.)\n",
    "getwd()\n",
    "## reading the data\n",
    "df <- read.table(\"Data/Daten_Radieschen_2004.csv\",sep=\";\",dec=\".\",h=T)\n",
    "klima <- read.csv(\"Data/Klima.csv\",sep=\";\",dec=\".\",h=T)"
   ]
  },
  {
   "cell_type": "code",
   "execution_count": null,
   "metadata": {},
   "outputs": [],
   "source": [
    "################### 8. Die Struktur der Daten pr?fen (int, num, chr, Factor, Date.) und ?ndern\n",
    "## Namen der Spalte\n",
    "str(df)\n",
    "## The first rows of the data\n",
    "head(df)"
   ]
  },
  {
   "cell_type": "code",
   "execution_count": null,
   "metadata": {},
   "outputs": [],
   "source": [
    "## example: as.Date, the part \"%Y-%m-%d\" is adapted by the form of the data\n",
    "df$Datum <- as.Date(df$Datum, \"%Y-%m-%d\")\n",
    "df$Variante <- as.factor(paste(\"W\", df$Variante, sep=\"\"))\n",
    "str(df)"
   ]
  },
  {
   "cell_type": "code",
   "execution_count": null,
   "metadata": {},
   "outputs": [],
   "source": [
    "\n",
    "## Berechung der Thermalzeit und Temperatursumme\n",
    "\n",
    "### 1. Lineares Modell mit Basistemperatur\n",
    "## Basistemperatur\n",
    "Tbase <- 3.5\n",
    "## Berechnung der Thermalzeit ?Cd\n",
    "\n",
    "## Berechnung der Temperatursumme\n",
    "\n",
    "\n",
    "###################  11. Wie mache ich eine Abbildung in R?\n",
    "## Klimadaten plotten\n",
    "plot(klima$Temperature~klima$Date)"
   ]
  },
  {
   "cell_type": "markdown",
   "metadata": {},
   "source": [
    "# Graphische Parameter in R\n",
    "- ## [statmethods](https://www.statmethods.net/advgraphs/parameters.html)\n",
    "- ## [R cheat sheet](https://rstudio.com/resources/cheatsheets/)\n",
    "\n",
    "## googeln : **#r plot cheatsheet**, **#Bilder**"
   ]
  },
  {
   "cell_type": "code",
   "execution_count": null,
   "metadata": {},
   "outputs": [],
   "source": [
    "### Plot\n",
    "plot(klima$Temperature~klima$Date)\n",
    "min(klima$Temperature)\n",
    "max(klima$Temperature)\n",
    "\n",
    "\n",
    "### Linie\n",
    "abline(Topt, 0)\n",
    "abline(Tmax, 0, col=\"red\")\n",
    "abline(Tbase, 0, col=\"red\")"
   ]
  },
  {
   "cell_type": "code",
   "execution_count": null,
   "metadata": {},
   "outputs": [],
   "source": [
    "### 2. Knickpunkt-Modell f?r die Berechung der Thermalzeit und Temperatursumme\n",
    "Tbase <- 3.5\n",
    "Topt <- 21.6\n",
    "Tmax <- 32.1\n",
    "\n",
    "klima$Thermalzeit2 <- ifelse(klima$Temperature<Topt, ## if\n",
    "                             Topt*(klima$Temperature-Tbase)/(Topt-Tbase),            ## yes\n",
    "                             Topt*(Tmax-klima$Temperature)/(Tmax-Topt)              ## no\n",
    "                             )\n",
    "klima$TS2 <- cumsum(klima$Thermalzeit2)\n",
    "\n",
    "\n",
    "\n",
    "plot(Thermalzeit2~Thermalzeit1, data=klima)\n",
    "## 1 to 1 line\n",
    "abline(0,1)"
   ]
  },
  {
   "cell_type": "code",
   "execution_count": null,
   "metadata": {},
   "outputs": [],
   "source": [
    "### 3. Arrhenius-type response curves (Ansprechkurve) f?r die Berechung der Thermalzeit und Temperatursumme\n",
    "## Parameter for effective Temperature sum (Parent et al., 2012, Cauliflower)\n",
    "deltaH=63600\n",
    "A=937088859.183916\n",
    "alpha = 3.5\n",
    "R = 8.314\n",
    "K = 273\n",
    "T0=297.4\n",
    "\n",
    "## Die Kurve checken\n",
    "x <- seq(0, 40, by=0.1)\n",
    "y <-A*(x+K)*exp(-deltaH/(R*(x+K)))/(1+exp(-deltaH/(R*(x+K)))^(alpha*(1-(x+K)/T0)))\n",
    "plot(y~x)\n",
    "\n",
    "klima$Thermalzeit3 <- A*(klima$Temperature+K)*exp(-deltaH/(R*(klima$Temperature+K)))/(1+exp(-deltaH/(R*(klima$Temperature+K)))^(alpha*(1-(klima$Temperature+K)/T0)))\n",
    "klima$TS3 <- cumsum(klima$Thermalzeit3)\n",
    "## Checken\n",
    "plot(klima$Thermalzeit3~klima$Thermalzeit1)\n"
   ]
  },
  {
   "cell_type": "markdown",
   "metadata": {},
   "source": [
    "## Vorsicht mit ? berschreiben!\n",
    "\n",
    "# Hilfe!! Hilfe!!\n",
    "\n",
    "# Googeln\n",
    "- ## ? in Console\n",
    "- ## ?? in Console"
   ]
  },
  {
   "cell_type": "code",
   "execution_count": null,
   "metadata": {},
   "outputs": [],
   "source": [
    "df[1, 1]\n",
    "\n",
    "## using \"subset\" to select the part of the data \n",
    "test <- subset(df, DAT>20)\n",
    "## quick select\n",
    "##Create test with the 3rd, 5th columns of df \n",
    "\n",
    "\n",
    "\n",
    "## ANOVA\n",
    "\n",
    "y=a*exp(b*x)\n",
    "df$DAT <- as.numeric(df$DAT)\n",
    "test <- nls(TGGesamt~a*exp(b*DAT), data=df, start = list(a = 0.5, b = 0.2))\n",
    "abline(test)\n",
    "\n",
    "fit <- aov(lm(TGGesamt~Variante, data=subset(df, DAT>25)))\n",
    "fit\n",
    "summary(fit)\n",
    "\n",
    "\n",
    "##Multiple comparisons: Tukey\n",
    "out <- agricolae::HSD.test(fit, \"Variante\", group=TRUE)\n",
    "plot(out, main=\"Wachstumsrate\")\n",
    "plot(out, main=\"Wachstumsrate\", ylim=c(0,3))"
   ]
  },
  {
   "cell_type": "code",
   "execution_count": null,
   "metadata": {},
   "outputs": [],
   "source": [
    "out2 <- agricolae::LSD.test(fit, \"Variante\",console=TRUE)\n",
    "plot(out2)\n",
    "\n",
    "#df$DAT <- as.factor(df$DAT)\n",
    "#fit2 <- aov(TGGesamt~Variante+DAT+Variante:DAT, data=df)\n",
    "#summary(fit2)\n",
    "\n",
    "\n",
    "## The structure of the data\n",
    "## using \"split\" to structure the data in small sets\n",
    "#x <-split(df, df$Datum, drop=TRUE)[[1]]\n",
    "#x <-split(df, list(df$Variante, df$Wiederholung), drop=TRUE)[[1]]\n",
    "\n",
    "\n",
    "### Vergleich Wachstumsrate \n",
    "XXXXX = do.call('rbind',lapply(split(df, df$Variante, drop=TRUE), function(x) {\n",
    "  # x <- split(df, df$Variante, drop=TRUE)[[1]]    ### Testing if thins works\n",
    "  x\n",
    "}))\n",
    "\n",
    "\n",
    "## Wachstumsrate berechnen:\n",
    "\n",
    "x$dDate <- zoo::rollapply(x$Datum,  width = 2, FUN = diff.Date, fill=NA, align='right')\n",
    "## difference in whole dry mass\n",
    "x$dGesamt <- zoo::rollapply(x$TGGesamt,  width = 2, FUN = diff, fill=NA, align='right')\n",
    "## difference in leaf dry mass\n",
    "x$dBlatt <- zoo::rollapply(x$TGBlatt,  width = 2, FUN = diff, fill=NA, align='right')\n",
    "## difference in bulb dry mass\n",
    "x$dKnolle <- zoo::rollapply(x$TGKnolle,  width = 2, FUN = diff, fill=NA, align='right')\n",
    "## whole plant growth rate\n",
    "x$Gesamt_Rate <- x$dGesamt/x$dDate\n",
    "x$Blatt_Rate <- x$dBlatt/x$dDate\n",
    "x$Knolle_Rate <- x$dKnolle/x$dDate\n",
    "x\n",
    "\n",
    "## do.call\n",
    "\n",
    "XXXXX = do.call('rbind',lapply(split(df, list(df$Variante, df$Wiederholung), drop=TRUE), function(x) {\n",
    "  # x <- split(df, list(df$Variante, df$Wiederholung))[[1]]    ### Testing if thins works\n",
    "   x\n",
    "}))\n",
    "\n",
    "###################  Ergebnisse in .csv Format speichern\n",
    "\n",
    "set.seed(218123)\n",
    "## Generate 6 values from 1 to 200 \n",
    "for (i in 1:4){\n",
    "  test <- data.frame(n =sample(1:6,6, replace=F))## replace = T means the value can be repeated\n",
    "  x <- data.frame(Behandlung=c(\"NaCl_S0\",\"NaCl_S1\",\"NaCL_S2\", \"NaCl_S0\",\"NaCl_S1\",\"NaCL_S2\"))\n",
    "  ran <- cbind(test,x)\n",
    "  ran <- ran[order(ran$n),]\n",
    "  print(ran$Behandlung)\n",
    "}\n"
   ]
  }
 ],
 "metadata": {
  "kernelspec": {
   "display_name": "R",
   "language": "R",
   "name": "ir"
  },
  "language_info": {
   "codemirror_mode": "r",
   "file_extension": ".r",
   "mimetype": "text/x-r-source",
   "name": "R",
   "pygments_lexer": "r",
   "version": "3.6.1"
  }
 },
 "nbformat": 4,
 "nbformat_minor": 2
}

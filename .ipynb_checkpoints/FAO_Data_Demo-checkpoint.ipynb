{
 "cells": [
  {
   "cell_type": "code",
   "execution_count": 1,
   "metadata": {},
   "outputs": [
    {
     "data": {
      "text/html": [
       "1"
      ],
      "text/latex": [
       "1"
      ],
      "text/markdown": [
       "1"
      ],
      "text/plain": [
       "[1] 1"
      ]
     },
     "metadata": {},
     "output_type": "display_data"
    }
   ],
   "source": [
    "library(plyr)\n",
    "library(lattice)\n",
    "library(psych)\n",
    "library(latticeExtra)\n",
    "library(lattice)\n",
    "library(ggplot2)\n",
    "library(RColorBrewer)\n",
    "\n",
    "\n",
    "###################  Die Daten einlesen/importieren (read.table(); read.csv() etc.)\n",
    "getwd()\n",
    "## reading the data\n",
    "df <- read.table(\"Data/Daten_Radieschen_2004.csv\",sep=\";\",dec=\".\",h=T)\n",
    "klima <- read.csv(\"Data/Klima.csv\",sep=\";\",dec=\".\",h=T)\n",
    "\n",
    "exp = 1\n",
    "exp"
   ]
  },
  {
   "cell_type": "markdown",
   "metadata": {},
   "source": [
    "#### hhhz"
   ]
  },
  {
   "cell_type": "code",
   "execution_count": null,
   "metadata": {},
   "outputs": [],
   "source": [
    "setwd(\"~/Manuscript_Current/Cucurbitaceae\")\n",
    "df1 <-read.table(\"FAOSTAT_cucurbit_data_7-31-2017.csv\",sep=\",\",dec=\".\",h=T)\n",
    "df1$Item.Code <- as.factor(df1$Item.Code)\n",
    "df1$Item.Code <- revalue(df1$Item.Code, c(\"397\"=\"Cucumber\", \"568\"=\"Melon\", \"394\"=\"Pumpkin\", \"567\"=\"Watermelon\"))\n",
    "## Yield in Million Tonnes\n",
    "df1$Yield <- df1$Value/1000000\n",
    "df1<- df1[order(df1$Area),]\n",
    "\n",
    "\n",
    "\n",
    "item=\"Watermelon\"\n",
    "mypalette<-brewer.pal(5,\"Dark2\")\n",
    "xyplot(Yield~Year,groups=Area, data=droplevels(subset(subset(subset(df1, Item.Code==item), Area!=\"World\"), Area!=\"Asia\")),\n",
    "       type=\"l\", col=mypalette, lwd=4, \n",
    "       scales=list(tck=c(1,0), x=list(cex=2), y=list(cex=2)),\n",
    "       key=list(space=\"right\",   ##corner=c(0,2),\n",
    "                lines=list(col=mypalette, lwd=4),\n",
    "                text=list(c(\"Africa\",\"Europe\",\"Northern America\",\"Oceania\",\"South America\"), cex=1.5))\n",
    "       )\n",
    "\n",
    "\n",
    "mypalette2<-c(\"#386CB0\", \"#F0027F\")\n",
    "df2 <- rbind(subset(df1, Area==\"Asia\"), subset(df1, Area==\"World\"))\n",
    "xyplot(Yield~Year,groups=Area, data=subset(df2, Item.Code==item),\n",
    "       type=\"l\", col=mypalette2, lwd=4, \n",
    "       scales=list(tck=c(1,0), x=list(cex=1.5), y=list(cex=1.5)),\n",
    "       key=list(space=\"right\",   ##corner=c(0,2),\n",
    "                lines=list(col=mypalette2, lwd=4),\n",
    "                text=list(c(\"World\",\"Asia\"), cex=1.5))\n",
    ")"
   ]
  }
 ],
 "metadata": {
  "kernelspec": {
   "display_name": "R",
   "language": "R",
   "name": "ir"
  },
  "language_info": {
   "codemirror_mode": "r",
   "file_extension": ".r",
   "mimetype": "text/x-r-source",
   "name": "R",
   "pygments_lexer": "r",
   "version": "3.6.1"
  }
 },
 "nbformat": 4,
 "nbformat_minor": 4
}

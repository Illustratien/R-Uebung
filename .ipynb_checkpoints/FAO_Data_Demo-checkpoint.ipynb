{
 "cells": [
  {
   "cell_type": "code",
   "execution_count": null,
   "metadata": {
    "pycharm": {
     "name": "#%% md small change\n"
    }
   },
   "outputs": [],
   "source": [
    "# Step 0: Testing the R-Environment"
   ]
  },
  {
   "cell_type": "code",
   "execution_count": null,
   "metadata": {},
   "outputs": [],
   "source": [
    "y = 1+1 ### Das Ergebnis einfacher Mathe als \"y\" speichern\n",
    "y       ### Man fragt das System an, was jetzt y ist?\n",
    "exp = 3 ### Ein Objekt \"exp\" ist eine Zahl und gleicht 3\n",
    "exp     ### Man fragt das System an, was jetzt exp ist?\n",
    "exp*y   ### Mathematische Operation\n"
   ]
  },
  {
   "cell_type": "markdown",
   "metadata": {},
   "source": [
    "# Step 1: Install/Loading required packages for data analyses and visualization\n",
    "[r- How to install multiple packages?](https://stackoverflow.com/questions/29041423/how-to-install-multiple-packages)"
   ]
  },
  {
   "cell_type": "code",
   "execution_count": null,
   "metadata": {},
   "outputs": [],
   "source": [
    "## package list\n",
    "package.name <- c('plyr','lattice','psych','latticeExtra','ggplot2','RColorBrewer')\n",
    "## library\n",
    "sapply(package.name,require,character=TRUE)\n"
   ]
  },
  {
   "cell_type": "markdown",
   "metadata": {},
   "source": [
    "# Step2: Loading the data"
   ]
  },
  {
   "cell_type": "code",
   "execution_count": null,
   "metadata": {},
   "outputs": [],
   "source": [
    "###################  Die Daten einlesen/importieren (read.table(); read.csv() etc.)\n",
    "getwd()\n",
    "## reading the data\n",
    "df1 <-read.table(\"Data/FAOSTAT_cucurbit_data_7-31-2017.csv\",sep=\",\",dec=\".\",h=T)\n"
   ]
  },
  {
   "cell_type": "markdown",
   "metadata": {},
   "source": [
    "# Step3: Checking the data"
   ]
  },
  {
   "cell_type": "markdown",
   "metadata": {},
   "source": [
    "## Step3.1: Checking the data structure"
   ]
  },
  {
   "cell_type": "code",
   "execution_count": null,
   "metadata": {},
   "outputs": [],
   "source": [
    "################### 8. Die Struktur der Daten pr?fen (int, num, chr, Factor, Date.) und ?ndern\n",
    "## Namen der Spalte\n",
    "str(df1)"
   ]
  },
  {
   "cell_type": "markdown",
   "metadata": {},
   "source": [
    "## Step3.2: Checking the first rows of the data"
   ]
  },
  {
   "cell_type": "code",
   "execution_count": null,
   "metadata": {},
   "outputs": [],
   "source": [
    "## The first rows of the data\n",
    "head(df1)"
   ]
  },
  {
   "cell_type": "markdown",
   "metadata": {},
   "source": [
    "# Step 4: Preparing data format"
   ]
  },
  {
   "cell_type": "code",
   "execution_count": null,
   "metadata": {},
   "outputs": [],
   "source": [
    "## The column \"Item.Code\" should be a factor\n",
    "df1$Item.Code <- as.factor(df1$Item.Code)   \n",
    "## Rename all rows in the column \"Item.Code\" based on their number\n",
    "df1$Item.Code <- revalue(df1$Item.Code, c(\"397\"=\"Cucumber\", \"568\"=\"Melon\", \"394\"=\"Pumpkin\", \"567\"=\"Watermelon\"))\n",
    "## Convert unit of yield in Million Tonnes\n",
    "df1$Yield <- df1$Value/1000000\n",
    "## Sorting data set according to Area\n",
    "df1<- df1[order(df1$Area),]"
   ]
  },
  {
   "cell_type": "markdown",
   "metadata": {},
   "source": [
    "# Step 5: Draw the figure"
   ]
  },
  {
   "cell_type": "markdown",
   "metadata": {},
   "source": [
    "### 5.1 Draw a figure of watermelon, without worldwide data and Asia"
   ]
  },
  {
   "cell_type": "code",
   "execution_count": null,
   "metadata": {},
   "outputs": [],
   "source": [
    "## Select item\n",
    "item=\"Watermelon\"\n",
    "## Select colors for the lines\n",
    "mypalette<-brewer.pal(5,\"Dark2\")\n",
    "## Draw a plot with x and y axsis: X = Year, Y = Yield, based on differnt group of area\n",
    "## Data source = the subset of Item.Code, without \"World\" and \"Asia\"\n",
    "xyplot(Yield~Year,groups=Area, data=droplevels(subset(subset(subset(df1, Item.Code==item), Area!=\"World\"), Area!=\"Asia\")),\n",
    "       #### Special setup of the figure\n",
    "       type=\"l\", col=mypalette, lwd=4, \n",
    "       scales=list(tck=c(1,0), x=list(cex=2), y=list(cex=2)),\n",
    "       key=list(space=\"right\",  \n",
    "                lines=list(col=mypalette, lwd=4),\n",
    "                text=list(c(\"Africa\",\"Europe\",\"Northern America\",\"Oceania\",\"South America\"), cex=1.5))\n",
    "       )"
   ]
  },
  {
   "cell_type": "markdown",
   "metadata": {},
   "source": [
    "### 5.2 Draw a figure of watermelon, only worldwide data and Asia"
   ]
  },
  {
   "cell_type": "code",
   "execution_count": null,
   "metadata": {},
   "outputs": [],
   "source": [
    "mypalette2<-c(\"#386CB0\", \"#F0027F\")\n",
    "df2 <- rbind(subset(df1, Area==\"Asia\"), subset(df1, Area==\"World\"))\n",
    "xyplot(Yield~Year,groups=Area, data=subset(df2, Item.Code==item),\n",
    "       type=\"l\", col=mypalette2, lwd=4, \n",
    "       scales=list(tck=c(1,0), x=list(cex=1.5), y=list(cex=1.5)),\n",
    "       key=list(space=\"right\",   ##corner=c(0,2),\n",
    "                lines=list(col=mypalette2, lwd=4),\n",
    "                text=list(c(\"World\",\"Asia\"), cex=1.5))\n",
    ")"
   ]
  }
 ],
 "metadata": {
  "kernelspec": {
   "display_name": "R",
   "language": "R",
   "name": "ir"
  },
  "language_info": {
   "codemirror_mode": "r",
   "file_extension": ".r",
   "mimetype": "text/x-r-source",
   "name": "R",
   "pygments_lexer": "r",
   "version": "3.6.3"
  }
 },
 "nbformat": 4,
 "nbformat_minor": 4
}
